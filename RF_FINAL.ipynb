{
 "cells": [
  {
   "cell_type": "code",
   "execution_count": null,
   "id": "c8cde865-3cc0-4a45-985f-88a548736345",
   "metadata": {},
   "outputs": [],
   "source": [
    "## GROUP 11\n",
    "## RF Model"
   ]
  },
  {
   "cell_type": "code",
   "execution_count": 1,
   "id": "27d09119",
   "metadata": {},
   "outputs": [],
   "source": [
    "import pandas as pd\n",
    "from sklearn.model_selection import train_test_split\n",
    "from sklearn.tree import DecisionTreeClassifier\n",
    "from sklearn.ensemble import RandomForestClassifier\n",
    "from sklearn.metrics import confusion_matrix, classification_report, accuracy_score\n",
    "import seaborn as sns\n",
    "import matplotlib.pyplot as plt\n",
    "from sklearn.tree import plot_tree"
   ]
  },
  {
   "cell_type": "code",
   "execution_count": 2,
   "id": "04c626e1",
   "metadata": {},
   "outputs": [
    {
     "name": "stdout",
     "output_type": "stream",
     "text": [
      "Empty DataFrame\n",
      "Columns: [age, sex, cp, trestbps, chol, fbs, restecg, thalach, exang, oldpeak, slope, ca, thal, target]\n",
      "Index: []\n",
      "<class 'pandas.core.frame.DataFrame'>\n",
      "RangeIndex: 1025 entries, 0 to 1024\n",
      "Data columns (total 14 columns):\n",
      " #   Column    Non-Null Count  Dtype  \n",
      "---  ------    --------------  -----  \n",
      " 0   age       1025 non-null   int64  \n",
      " 1   sex       1025 non-null   int64  \n",
      " 2   cp        1025 non-null   int64  \n",
      " 3   trestbps  1025 non-null   int64  \n",
      " 4   chol      1025 non-null   int64  \n",
      " 5   fbs       1025 non-null   int64  \n",
      " 6   restecg   1025 non-null   int64  \n",
      " 7   thalach   1025 non-null   int64  \n",
      " 8   exang     1025 non-null   int64  \n",
      " 9   oldpeak   1025 non-null   float64\n",
      " 10  slope     1025 non-null   int64  \n",
      " 11  ca        1025 non-null   int64  \n",
      " 12  thal      1025 non-null   int64  \n",
      " 13  target    1025 non-null   int64  \n",
      "dtypes: float64(1), int64(13)\n",
      "memory usage: 112.2 KB\n"
     ]
    }
   ],
   "source": [
    "df = pd.read_csv('C:/Users/aditi/Downloads/archive/train.csv')\n",
    "\n",
    "print(df[df.isna().any(axis=1)]) # shows NaN values in data frame if it exists\n",
    "df.info()"
   ]
  },
  {
   "cell_type": "code",
   "execution_count": 3,
   "id": "f52d37ee",
   "metadata": {},
   "outputs": [
    {
     "name": "stdout",
     "output_type": "stream",
     "text": [
      "<class 'pandas.core.frame.DataFrame'>\n",
      "RangeIndex: 1025 entries, 0 to 1024\n",
      "Data columns (total 1 columns):\n",
      " #   Column  Non-Null Count  Dtype \n",
      "---  ------  --------------  ----- \n",
      " 0   sex     1025 non-null   object\n",
      "dtypes: object(1)\n",
      "memory usage: 8.1+ KB\n",
      "<class 'pandas.core.frame.DataFrame'>\n",
      "RangeIndex: 1025 entries, 0 to 1024\n",
      "Data columns (total 13 columns):\n",
      " #   Column    Non-Null Count  Dtype  \n",
      "---  ------    --------------  -----  \n",
      " 0   age       1025 non-null   int64  \n",
      " 1   cp        1025 non-null   int64  \n",
      " 2   trestbps  1025 non-null   int64  \n",
      " 3   chol      1025 non-null   int64  \n",
      " 4   fbs       1025 non-null   int64  \n",
      " 5   restecg   1025 non-null   int64  \n",
      " 6   thalach   1025 non-null   int64  \n",
      " 7   exang     1025 non-null   int64  \n",
      " 8   oldpeak   1025 non-null   float64\n",
      " 9   slope     1025 non-null   int64  \n",
      " 10  ca        1025 non-null   int64  \n",
      " 11  thal      1025 non-null   int64  \n",
      " 12  target    1025 non-null   object \n",
      "dtypes: float64(1), int64(11), object(1)\n",
      "memory usage: 104.2+ KB\n"
     ]
    }
   ],
   "source": [
    "df['target'] = df['target'].astype('object')\n",
    "df['sex'] = df['target'].astype('object')\n",
    "##df_num= df.select_dtypes(exclude='object')\n",
    "df_num = df[['sex']]\n",
    "df_obj = df.drop(columns=['sex'])\n",
    "##df_num = [['']]\n",
    "\n",
    "#df_obj= df.select_dtypes(include='object')\n",
    "df_num.info()\n",
    "df_obj.info()"
   ]
  },
  {
   "cell_type": "code",
   "execution_count": 4,
   "id": "0580a368",
   "metadata": {},
   "outputs": [
    {
     "name": "stdout",
     "output_type": "stream",
     "text": [
      "target_1\n",
      "True     526\n",
      "False    499\n",
      "Name: count, dtype: int64\n"
     ]
    },
    {
     "data": {
      "text/html": [
       "<div>\n",
       "<style scoped>\n",
       "    .dataframe tbody tr th:only-of-type {\n",
       "        vertical-align: middle;\n",
       "    }\n",
       "\n",
       "    .dataframe tbody tr th {\n",
       "        vertical-align: top;\n",
       "    }\n",
       "\n",
       "    .dataframe thead th {\n",
       "        text-align: right;\n",
       "    }\n",
       "</style>\n",
       "<table border=\"1\" class=\"dataframe\">\n",
       "  <thead>\n",
       "    <tr style=\"text-align: right;\">\n",
       "      <th></th>\n",
       "      <th>age</th>\n",
       "      <th>cp</th>\n",
       "      <th>trestbps</th>\n",
       "      <th>chol</th>\n",
       "      <th>fbs</th>\n",
       "      <th>restecg</th>\n",
       "      <th>thalach</th>\n",
       "      <th>exang</th>\n",
       "      <th>oldpeak</th>\n",
       "      <th>slope</th>\n",
       "      <th>ca</th>\n",
       "      <th>thal</th>\n",
       "      <th>target_1</th>\n",
       "    </tr>\n",
       "  </thead>\n",
       "  <tbody>\n",
       "    <tr>\n",
       "      <th>0</th>\n",
       "      <td>52</td>\n",
       "      <td>0</td>\n",
       "      <td>125</td>\n",
       "      <td>212</td>\n",
       "      <td>0</td>\n",
       "      <td>1</td>\n",
       "      <td>168</td>\n",
       "      <td>0</td>\n",
       "      <td>1.0</td>\n",
       "      <td>2</td>\n",
       "      <td>2</td>\n",
       "      <td>3</td>\n",
       "      <td>False</td>\n",
       "    </tr>\n",
       "    <tr>\n",
       "      <th>1</th>\n",
       "      <td>53</td>\n",
       "      <td>0</td>\n",
       "      <td>140</td>\n",
       "      <td>203</td>\n",
       "      <td>1</td>\n",
       "      <td>0</td>\n",
       "      <td>155</td>\n",
       "      <td>1</td>\n",
       "      <td>3.1</td>\n",
       "      <td>0</td>\n",
       "      <td>0</td>\n",
       "      <td>3</td>\n",
       "      <td>False</td>\n",
       "    </tr>\n",
       "    <tr>\n",
       "      <th>2</th>\n",
       "      <td>70</td>\n",
       "      <td>0</td>\n",
       "      <td>145</td>\n",
       "      <td>174</td>\n",
       "      <td>0</td>\n",
       "      <td>1</td>\n",
       "      <td>125</td>\n",
       "      <td>1</td>\n",
       "      <td>2.6</td>\n",
       "      <td>0</td>\n",
       "      <td>0</td>\n",
       "      <td>3</td>\n",
       "      <td>False</td>\n",
       "    </tr>\n",
       "    <tr>\n",
       "      <th>3</th>\n",
       "      <td>61</td>\n",
       "      <td>0</td>\n",
       "      <td>148</td>\n",
       "      <td>203</td>\n",
       "      <td>0</td>\n",
       "      <td>1</td>\n",
       "      <td>161</td>\n",
       "      <td>0</td>\n",
       "      <td>0.0</td>\n",
       "      <td>2</td>\n",
       "      <td>1</td>\n",
       "      <td>3</td>\n",
       "      <td>False</td>\n",
       "    </tr>\n",
       "    <tr>\n",
       "      <th>4</th>\n",
       "      <td>62</td>\n",
       "      <td>0</td>\n",
       "      <td>138</td>\n",
       "      <td>294</td>\n",
       "      <td>1</td>\n",
       "      <td>1</td>\n",
       "      <td>106</td>\n",
       "      <td>0</td>\n",
       "      <td>1.9</td>\n",
       "      <td>1</td>\n",
       "      <td>3</td>\n",
       "      <td>2</td>\n",
       "      <td>False</td>\n",
       "    </tr>\n",
       "  </tbody>\n",
       "</table>\n",
       "</div>"
      ],
      "text/plain": [
       "   age  cp  trestbps  chol  fbs  restecg  thalach  exang  oldpeak  slope  ca  \\\n",
       "0   52   0       125   212    0        1      168      0      1.0      2   2   \n",
       "1   53   0       140   203    1        0      155      1      3.1      0   0   \n",
       "2   70   0       145   174    0        1      125      1      2.6      0   0   \n",
       "3   61   0       148   203    0        1      161      0      0.0      2   1   \n",
       "4   62   0       138   294    1        1      106      0      1.9      1   3   \n",
       "\n",
       "   thal  target_1  \n",
       "0     3     False  \n",
       "1     3     False  \n",
       "2     3     False  \n",
       "3     3     False  \n",
       "4     2     False  "
      ]
     },
     "execution_count": 4,
     "metadata": {},
     "output_type": "execute_result"
    },
    {
     "data": {
      "image/png": "[encoded data removed]",
      "text/plain": [
       "<Figure size 640x480 with 1 Axes>"
      ]
     },
     "metadata": {},
     "output_type": "display_data"
    }
   ],
   "source": [
    "df_obj= pd.get_dummies(df_obj, drop_first=True)\n",
    "print(df_obj['target_1'].value_counts())\n",
    "sns.countplot(data=df_obj, x='target_1')\n",
    "df_obj.head()"
   ]
  },
  {
   "cell_type": "code",
   "execution_count": 5,
   "id": "0b15b373",
   "metadata": {},
   "outputs": [
    {
     "name": "stdout",
     "output_type": "stream",
     "text": [
      "      age  cp  trestbps  chol  fbs  restecg  thalach  exang  oldpeak  slope  \\\n",
      "0      52   0       125   212    0        1      168      0      1.0      2   \n",
      "1      53   0       140   203    1        0      155      1      3.1      0   \n",
      "2      70   0       145   174    0        1      125      1      2.6      0   \n",
      "3      61   0       148   203    0        1      161      0      0.0      2   \n",
      "4      62   0       138   294    1        1      106      0      1.9      1   \n",
      "...   ...  ..       ...   ...  ...      ...      ...    ...      ...    ...   \n",
      "1020   59   1       140   221    0        1      164      1      0.0      2   \n",
      "1021   60   0       125   258    0        0      141      1      2.8      1   \n",
      "1022   47   0       110   275    0        0      118      1      1.0      1   \n",
      "1023   50   0       110   254    0        0      159      0      0.0      2   \n",
      "1024   54   0       120   188    0        1      113      0      1.4      1   \n",
      "\n",
      "      ca  thal  \n",
      "0      2     3  \n",
      "1      0     3  \n",
      "2      0     3  \n",
      "3      1     3  \n",
      "4      3     2  \n",
      "...   ..   ...  \n",
      "1020   0     2  \n",
      "1021   1     3  \n",
      "1022   1     2  \n",
      "1023   0     2  \n",
      "1024   1     3  \n",
      "\n",
      "[1025 rows x 12 columns]\n"
     ]
    }
   ],
   "source": [
    "attr = df_obj.drop('target_1', axis=1)\n",
    "print(attr)\n",
    "target = df_obj['target_1']\n",
    "\n",
    "# Split the data into training and testing sets\n",
    "attr_train, attr_test, target_train, target_test = train_test_split(attr, target, test_size=0.3, random_state=7)"
   ]
  },
  {
   "cell_type": "code",
   "execution_count": 6,
   "id": "17cf938b",
   "metadata": {},
   "outputs": [],
   "source": [
    "from sklearn.ensemble import RandomForestClassifier\n",
    "model = RandomForestClassifier(n_estimators=100,random_state=8)\n"
   ]
  },
  {
   "cell_type": "code",
   "execution_count": 7,
   "id": "ccbf1390",
   "metadata": {},
   "outputs": [],
   "source": [
    "model.fit(attr_train,target_train)\n",
    "target_pred = model.predict(attr_test)"
   ]
  },
  {
   "cell_type": "code",
   "execution_count": 8,
   "id": "5d1d1c19",
   "metadata": {},
   "outputs": [
    {
     "name": "stdout",
     "output_type": "stream",
     "text": [
      "Accuracy= 0.9772727272727273\n",
      "[[141   0]\n",
      " [  7 160]]\n",
      "              precision    recall  f1-score   support\n",
      "\n",
      "       False       0.95      1.00      0.98       141\n",
      "        True       1.00      0.96      0.98       167\n",
      "\n",
      "    accuracy                           0.98       308\n",
      "   macro avg       0.98      0.98      0.98       308\n",
      "weighted avg       0.98      0.98      0.98       308\n",
      "\n"
     ]
    }
   ],
   "source": [
    "from sklearn.metrics import confusion_matrix, classification_report, accuracy_score\n",
    "print(f\"Accuracy= {accuracy_score(target_test,target_pred)}\")\n",
    "\n",
    "print(confusion_matrix(target_test,target_pred))\n",
    "print(classification_report(target_test,target_pred))"
   ]
  },
  {
   "cell_type": "code",
   "execution_count": 9,
   "id": "f756001c",
   "metadata": {},
   "outputs": [],
   "source": [
    "# Export the first three decision trees from the forest\n",
    "## requires graphviz\n",
    "# for i in range(3):\n",
    "#     tree = rf.estimators_[i]\n",
    "#     dot_data = export_graphviz(tree,\n",
    "#                                feature_names=X_train.columns,  \n",
    "#                                filled=True,  \n",
    "#                                max_depth=2, \n",
    "#                                impurity=False, \n",
    "#                                proportion=True)\n",
    "#     graph = graphviz.Source(dot_data)\n",
    "#     display(graph)"
   ]
  },
  {
   "cell_type": "code",
   "execution_count": 10,
   "id": "a0a9abe1",
   "metadata": {},
   "outputs": [
    {
     "name": "stdout",
     "output_type": "stream",
     "text": [
      "Mean Decrease Accuracy[0.09724877 0.15796457 0.07552128 0.08129702 0.00983885 0.02563517\n",
      " 0.11593675 0.06569891 0.11896243 0.04916112 0.1107382  0.09199693]\n",
      "\n",
      "Mean Decrease GINI= [0.04862202 0.07897844 0.03775881 0.04064653 0.00491918 0.01281696\n",
      " 0.05796555 0.03284786 0.05947832 0.02457937 0.05536641 0.04599623]\n"
     ]
    }
   ],
   "source": [
    "\n",
    "# Feature importance for Mean Decrease Accuracy\n",
    "mean_decrease_accuracy = model.feature_importances_\n",
    "print(f\"Mean Decrease Accuracy{ mean_decrease_accuracy}\")\n",
    "# # Feature importance for Mean Decrease GINI\n",
    "# # Note: GINI importance is specific to decision trees and random forests\n",
    "gini_importance = model.feature_importances_ * model.estimators_[0].tree_.impurity[0]\n",
    "print(f\"\\nMean Decrease GINI= {gini_importance}\")\n",
    " "
   ]
  },
  {
   "cell_type": "code",
   "execution_count": 11,
   "id": "8b96bcbc",
   "metadata": {},
   "outputs": [
    {
     "data": {
      "image/png": "[encoded data removed]",
      "text/plain": [
       "<Figure size 1000x600 with 1 Axes>"
      ]
     },
     "metadata": {},
     "output_type": "display_data"
    },
    {
     "data": {
      "image/png": "[encoded data removed]",
      "text/plain": [
       "<Figure size 1000x600 with 1 Axes>"
      ]
     },
     "metadata": {},
     "output_type": "display_data"
    }
   ],
   "source": [
    "plt.figure(figsize=(10, 6))\n",
    "plt.barh(range(len(mean_decrease_accuracy)), mean_decrease_accuracy, align='center')\n",
    "plt.yticks(range(len(mean_decrease_accuracy)), attr.columns)\n",
    "plt.xlabel('Mean Decrease Accuracy')\n",
    "plt.title('Feature Importance - Mean Decrease Accuracy')\n",
    "plt.show()\n",
    "plt.figure(figsize=(10, 6))\n",
    "plt.barh(range(len(gini_importance)), gini_importance, align='center')\n",
    "plt.yticks(range(len(gini_importance)), attr.columns)\n",
    "plt.xlabel('Mean Decrease GINI')\n",
    "plt.title('Feature Importance - Mean Decrease GINI')\n",
    "plt.show()"
   ]
  },
  {
   "cell_type": "code",
   "execution_count": 12,
   "id": "e7a13cbe",
   "metadata": {},
   "outputs": [
    {
     "name": "stdout",
     "output_type": "stream",
     "text": [
      "cp          0.157965\n",
      "oldpeak     0.118962\n",
      "thalach     0.115937\n",
      "ca          0.110738\n",
      "age         0.097249\n",
      "thal        0.091997\n",
      "chol        0.081297\n",
      "trestbps    0.075521\n",
      "exang       0.065699\n",
      "slope       0.049161\n",
      "restecg     0.025635\n",
      "fbs         0.009839\n",
      "dtype: float64\n"
     ]
    }
   ],
   "source": [
    "\n",
    "feature_scores = pd.Series(model.feature_importances_, index=attr_train.columns).sort_values(ascending=False)\n",
    "\n",
    "print(feature_scores)"
   ]
  },
  {
   "cell_type": "code",
   "execution_count": null,
   "id": "4f59cd07-2cb7-4193-b501-874e568639dc",
   "metadata": {},
   "outputs": [],
   "source": []
  }
 ],
 "metadata": {
  "kernelspec": {
   "display_name": "Python 3 (ipykernel)",
   "language": "python",
   "name": "python3"
  },
  "language_info": {
   "codemirror_mode": {
    "name": "ipython",
    "version": 3
   },
   "file_extension": ".py",
   "mimetype": "text/x-python",
   "name": "python",
   "nbconvert_exporter": "python",
   "pygments_lexer": "ipython3",
   "version": "3.9.7"
  }
 },
 "nbformat": 4,
 "nbformat_minor": 5
}

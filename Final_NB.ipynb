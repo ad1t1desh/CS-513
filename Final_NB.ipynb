{
  "nbformat": 4,
  "nbformat_minor": 0,
  "metadata": {
    "colab": {
      "provenance": []
    },
    "kernelspec": {
      "name": "python3",
      "display_name": "Python 3"
    },
    "language_info": {
      "name": "python"
    }
  },
  "cells": [
    {
      "cell_type": "code",
      "execution_count": 7,
      "metadata": {
        "id": "EBijqBkQUaoQ"
      },
      "outputs": [],
      "source": [
        "import numpy as np\n",
        "import pandas as pd\n",
        "from sklearn.model_selection import train_test_split\n"
      ]
    },
    {
      "cell_type": "code",
      "source": [
        "filename='HeartDiseasePrediction.csv'\n",
        "nan_values=['?']\n",
        "att_type={' Sample': 'str', 'Class':'category'}\n",
        "\n",
        "df=pd.read_csv(filename,dtype=att_type,na_values=nan_values)\n",
        "\n",
        "print(df[df.isna().any(axis=1)])\n",
        "\n",
        "print(df.shape)\n",
        "print(df.isnull().sum())\n",
        "print()\n",
        "\n",
        "print(f\"shape : {df.shape}\")\n",
        "print(df.isnull().sum())"
      ],
      "metadata": {
        "colab": {
          "base_uri": "https://localhost:8080/"
        },
        "id": "WTF0ESwSVC7R",
        "outputId": "a4187700-96db-4fcb-d73f-4b77c0edd2ce"
      },
      "execution_count": 12,
      "outputs": [
        {
          "output_type": "stream",
          "name": "stdout",
          "text": [
            "Empty DataFrame\n",
            "Columns: [age, sex, cp, trestbps, chol, fbs, restecg, thalach, exang, oldpeak, slope, ca, thal, target]\n",
            "Index: []\n",
            "(1025, 14)\n",
            "age         0\n",
            "sex         0\n",
            "cp          0\n",
            "trestbps    0\n",
            "chol        0\n",
            "fbs         0\n",
            "restecg     0\n",
            "thalach     0\n",
            "exang       0\n",
            "oldpeak     0\n",
            "slope       0\n",
            "ca          0\n",
            "thal        0\n",
            "target      0\n",
            "dtype: int64\n",
            "\n",
            "shape : (1025, 14)\n",
            "age         0\n",
            "sex         0\n",
            "cp          0\n",
            "trestbps    0\n",
            "chol        0\n",
            "fbs         0\n",
            "restecg     0\n",
            "thalach     0\n",
            "exang       0\n",
            "oldpeak     0\n",
            "slope       0\n",
            "ca          0\n",
            "thal        0\n",
            "target      0\n",
            "dtype: int64\n"
          ]
        }
      ]
    },
    {
      "cell_type": "code",
      "source": [
        "attr = df.drop(columns = ['target'])  # features\n",
        "target = df['target']  # target variable\n",
        "# attr.head()\n",
        "# target.head()\n",
        "attr_train, attr_test, target_train,target_test  = train_test_split(attr, target,test_size = 0.25, random_state = 44, shuffle = True)\n",
        "target_train.head()\n",
        "# attr_train.head()\n",
        "target_test.head()"
      ],
      "metadata": {
        "colab": {
          "base_uri": "https://localhost:8080/"
        },
        "id": "lZj-0WPcVz5b",
        "outputId": "84d4c618-f50d-4023-e1d6-70299a689ca6"
      },
      "execution_count": 15,
      "outputs": [
        {
          "output_type": "execute_result",
          "data": {
            "text/plain": [
              "569    1\n",
              "424    0\n",
              "927    1\n",
              "125    1\n",
              "801    1\n",
              "Name: target, dtype: int64"
            ]
          },
          "metadata": {},
          "execution_count": 15
        }
      ]
    },
    {
      "cell_type": "code",
      "source": [
        "from sklearn.naive_bayes import GaussianNB\n",
        "\n",
        "from sklearn.metrics import accuracy_score\n",
        "\n",
        "GNB = GaussianNB()\n",
        "GNB.fit(attr_train, target_train)\n",
        "target_pred = GNB.predict(attr_test)\n",
        "accuracy = accuracy_score(target_test,target_pred )\n",
        "print(f'Accuracy of model {accuracy}%')\n",
        "print('')"
      ],
      "metadata": {
        "colab": {
          "base_uri": "https://localhost:8080/"
        },
        "id": "ZDln08jyFV2z",
        "outputId": "4a16f115-fe45-40d5-9a8f-3ee01b5860c2"
      },
      "execution_count": 16,
      "outputs": [
        {
          "output_type": "stream",
          "name": "stdout",
          "text": [
            "Accuracy of model 0.8132295719844358%\n",
            "\n"
          ]
        }
      ]
    },
    {
      "cell_type": "code",
      "source": [
        "from sklearn.naive_bayes import MultinomialNB\n",
        "\n",
        "from sklearn.metrics import accuracy_score\n",
        "\n",
        "MNB = MultinomialNB()\n",
        "MNB.fit(attr_train, target_train)\n",
        "target_pred = MNB.predict(attr_test)\n",
        "accuracy = accuracy_score(target_test,target_pred )\n",
        "print(f'Accuracy of model {accuracy}%')\n",
        "print('')"
      ],
      "metadata": {
        "colab": {
          "base_uri": "https://localhost:8080/"
        },
        "id": "OBzXp-TEF4rG",
        "outputId": "f16ac808-7387-41ec-b844-8c2021f2db12"
      },
      "execution_count": 17,
      "outputs": [
        {
          "output_type": "stream",
          "name": "stdout",
          "text": [
            "Accuracy of model 0.7587548638132295%\n",
            "\n"
          ]
        }
      ]
    }
  ]
}